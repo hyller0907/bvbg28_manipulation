{
 "cells": [
  {
   "cell_type": "code",
   "execution_count": 1,
   "metadata": {},
   "outputs": [],
   "source": [
    "import wget\n",
    "import os\n",
    "import time\n",
    "\n",
    "from datetime import date\n",
    "\n",
    "import pandas as pd\n",
    "from bizdays import Calendar"
   ]
  },
  {
   "cell_type": "markdown",
   "metadata": {},
   "source": [
    "# PARTE 1\n",
    "\n",
    "Baixar o arquivo BVBG.028 no site da B3 \n",
    "\n",
    "url: https://www.b3.com.br/pt_br/market-data-e-indices/servicos-de-dados/market-data/historico/boletins-diarios/pesquisa-por-pregao/pesquisa-por-pregao/\n",
    "\n",
    "Com este arquivo, poderemos extrair os códigos de negociação (Tickers) para posteriormente buscarmos o preço\n",
    "históricos destes ativos na B3."
   ]
  },
  {
   "cell_type": "code",
   "execution_count": 2,
   "metadata": {},
   "outputs": [],
   "source": [
    "def get_bvbg28(file_date):\n",
    "    \n",
    "    '''\n",
    "    ** PASSO 1: Baixar o arquivo BVBG.028 no site da B3 **\n",
    "    Cadastro de instrumentos - BVBG.028.01 Instruments File\n",
    "        - Este arquivo contém as características dos instrumentos negociáveis e dos \n",
    "          instrumentos aceitos em garantia que são de conhecimento público.\n",
    "    '''\n",
    "    \n",
    "    file_path = os.path.join(os.getcwd(), 'download')      # O caminho de onde o arquivo será baixado\n",
    "    check_existence = os.path.exists(file_path)            # Faço uma checagem inicial, para verificar se arquivo já existe\n",
    "    \n",
    "    if check_existence == True:\n",
    "        raise ValueError(\"Delete o arquivo 'download' do seu atual diretório, antes de rodar este código.\")\n",
    "    \n",
    "    # Garantimos que não existe nenhum arquivo chamado \"Download\" no diretório alvo\n",
    "    else:\n",
    "        pre_url='https://www.b3.com.br/pesquisapregao/download?filelist='   # Criamos uma pré-url que será add o nome do arquivo\n",
    "        full_url = f'{pre_url}{file_date}.zip'                              # O Endereço completo da requisição que eu vou fazer\n",
    "        wget.download(full_url)                                             # Efetivamente baixar o arquivo BVBG28\n",
    "        time.sleep(20)\n",
    "\n",
    "        check_download = os.path.exists(file_path)                          # Faço uma checagem Final, para verificar se arquivo já existe\n",
    "\n",
    "        if check_download == True: \n",
    "            confirmation = print('Arquivo baixado com sucesso')\n",
    "            \n",
    "        else:\n",
    "            confirmation = print('Ocorreu um problema com o Download do arquivo')\n",
    "\n",
    "    return confirmation"
   ]
  },
  {
   "cell_type": "code",
   "execution_count": 3,
   "metadata": {},
   "outputs": [],
   "source": [
    "def show_yday(calendar_file, user_offset):\n",
    "    f = open(calendar_file, 'r').read().split('\\n')\n",
    "    holidays = [d.date() for d in pd.to_datetime(f)]\n",
    "\n",
    "    cal = Calendar(holidays, ['Sunday', 'Saturday'])\n",
    "\n",
    "    today = date.today()\n",
    "    ontem = cal.offset(today, user_offset)\n",
    "\n",
    "    return ontem"
   ]
  },
  {
   "cell_type": "code",
   "execution_count": 4,
   "metadata": {},
   "outputs": [
    {
     "name": "stdout",
     "output_type": "stream",
     "text": [
      "Arquivo baixado com sucesso\n"
     ]
    }
   ],
   "source": [
    "'''\n",
    "ATENÇÃO: O Nome do arquivo muda todo dia e é composto por:\n",
    "    1) Inicial \"IN\"\n",
    "    2) Data do arquivo, no formato \"YYMMDD\"\n",
    "'''\n",
    "\n",
    "anbima_file = os.path.join(os.getcwd(), 'ANBIMA.txt')\n",
    "\n",
    "my_day_parameter = show_yday(calendar_file=anbima_file, user_offset=-1)\n",
    "ajusted_day = my_day_parameter.strftime(\"%Y%m%d\")[2:]\n",
    "\n",
    "sufixo = f'IN{ajusted_day}'\n",
    "\n",
    "download_bvbg_zip = get_bvbg28(file_date=sufixo)"
   ]
  },
  {
   "cell_type": "markdown",
   "metadata": {},
   "source": [
    "# PARTE 2\n",
    "\n",
    "Retirar as informações dos CÓDIGOS DE NEGOCIAÇÃO (Ticker) dos arquivos e organiza-los em um DataFrame"
   ]
  },
  {
   "cell_type": "code",
   "execution_count": 5,
   "metadata": {},
   "outputs": [],
   "source": [
    "import zipfile\n",
    "import xml.etree.ElementTree as ET\n",
    "import warnings"
   ]
  },
  {
   "cell_type": "code",
   "execution_count": 6,
   "metadata": {},
   "outputs": [],
   "source": [
    "def unextracting(zip_file, dir_target):\n",
    "    try:\n",
    "        with zipfile.ZipFile(zip_file) as z:\n",
    "            z.extractall(dir_target)\n",
    "            print(\"Extracted all\")\n",
    "    except:\n",
    "        print(\"Invalid file\")"
   ]
  },
  {
   "cell_type": "code",
   "execution_count": 7,
   "metadata": {},
   "outputs": [
    {
     "name": "stdout",
     "output_type": "stream",
     "text": [
      "Extracted all\n",
      "Extracted all\n"
     ]
    }
   ],
   "source": [
    "# Porque o zip esta dentro de outro zip, teremos que realizar a extração 2 vezes\n",
    "\n",
    "# Extração número_01\n",
    "try_one = unextracting(zip_file=\"download\", dir_target=os.getcwd())\n",
    "\n",
    "# Criar um diretório chamado extracted_files\n",
    "os.mkdir('extracted_files')  \n",
    "file_destination = os.path.join(os.getcwd(), 'extracted_files')\n",
    "\n",
    "# Extração número_02\n",
    "try_two = unextracting(zip_file=f'{sufixo}.zip', dir_target=file_destination)\n",
    "\n",
    "# Remover os arquivos .zip que ficaram de bobeira\n",
    "os.remove(\"download\")\n",
    "os.remove(f'{sufixo}.zip')\n",
    "\n",
    "# Mudança de visão de diretório\n",
    "os.chdir(file_destination)"
   ]
  },
  {
   "cell_type": "markdown",
   "metadata": {},
   "source": [
    "-----------------"
   ]
  },
  {
   "cell_type": "markdown",
   "metadata": {},
   "source": [
    "# LAMBDAS\n",
    "\n",
    "Lambdas são \"funções anonimas\" que podem ser feitas de forma rápida. Este tipo de função se comporta exatamente como uma UDF (User Defined Function) - as mesmas que temos utilizados até então - com a diferença que deve conter uma expressão simples.\n",
    "\n",
    "<strong>Funções do tipo Lambda podem retornar objetos</strong>\n",
    "\n",
    "\n",
    "## Criando uma função Lambda\n",
    "lambda argument(s): expression\n",
    "\n",
    "Por exemplo:"
   ]
  },
  {
   "cell_type": "code",
   "execution_count": 8,
   "metadata": {},
   "outputs": [
    {
     "name": "stdout",
     "output_type": "stream",
     "text": [
      "Resultado do exemplo 01, usando um função LAMBDA: 7\n",
      "Resultado do exemplo 02, usando um UDF tradicional: 7\n"
     ]
    }
   ],
   "source": [
    "# Função Lambda\n",
    "my_lambda_example = lambda x: x + 2\n",
    "exemplo_01 = my_lambda_example(5)\n",
    "print(f'Resultado do exemplo 01, usando um função LAMBDA: {exemplo_01}')\n",
    "\n",
    "\n",
    "# Função UDF\n",
    "def exemplo_02(x):\n",
    "    x = x + 2\n",
    "    return x\n",
    "\n",
    "exemplo_02 = exemplo_02(5)\n",
    "print(f'Resultado do exemplo 02, usando um UDF tradicional: {exemplo_02}')"
   ]
  },
  {
   "cell_type": "markdown",
   "metadata": {},
   "source": [
    "-----------------"
   ]
  },
  {
   "cell_type": "code",
   "execution_count": 9,
   "metadata": {},
   "outputs": [
    {
     "name": "stdout",
     "output_type": "stream",
     "text": [
      "<class 'function'>\n",
      "O maior arquivo desta pasta é o BVBG.028.02_BV000327202202140327103407280418033.xml\n"
     ]
    }
   ],
   "source": [
    "fun = lambda x : os.path.isfile(os.path.join(file_destination,x))  # Extrair uma lista com todos os arquivos dentro de um diretório\n",
    "print(type(fun))                                                   # Demonstrando que o retorno é um objeto\n",
    "\n",
    "files_list = filter(fun, os.listdir(file_destination))             # Comparando o objeto com a lista de arquivos no diretório\n",
    "\n",
    "# Criando a lista com o nome dos aquivos juntamento com o tamanho\n",
    "size_of_file = [\n",
    "        (f,os.stat(os.path.join(file_destination, f)).st_size)\n",
    "        for f in files_list\n",
    "]\n",
    "\n",
    "# Criando uma função para na apresentação dos arquivos conforme seu tamanho\n",
    "fun = lambda x : x[1]\n",
    "\n",
    "# Inserindo o nome arquivos em 1 lista e o tamanho em outra, de forma ordenada\n",
    "list_files =[]                                    # list_files = Contem o nome dos arquivos no diretório\n",
    "list_size = []                                    # list_size = Contem o tamanho dos arquivos no diretório\n",
    "for f,s in sorted(size_of_file):\n",
    "    file_name = f\n",
    "    list_files.append(file_name)\n",
    "    \n",
    "    size = round(s/(1024*1024),3)\n",
    "    list_size.append(size)\n",
    "    \n",
    "# Verificando a posição (index) do maior maior arquivo na lista \"list_size\".\n",
    "max_num = 0\n",
    "for i in list_size:\n",
    "    if i > max_num:\n",
    "        max_num = i    \n",
    "    \n",
    "# Verificando o nome do arquivo de mesma posição (index) para o maior tamanho encontrado na etapa anterior\n",
    "reference = list_size.index(max_num)\n",
    "largest_file = list_files[reference]\n",
    "print(f'O maior arquivo desta pasta é o {largest_file}')"
   ]
  },
  {
   "cell_type": "code",
   "execution_count": 10,
   "metadata": {},
   "outputs": [
    {
     "name": "stdout",
     "output_type": "stream",
     "text": [
      "{urn:bvmf.052.01.xsd}Document\n",
      "{urn:bvmf.052.01.xsd}BizFileHdr\n",
      "{urn:bvmf.052.01.xsd}Xchg\n",
      "{urn:bvmf.052.01.xsd}BizGrpDesc\n",
      "{urn:bvmf.052.01.xsd}Fr\n",
      "{urn:bvmf.052.01.xsd}OrgId\n",
      "{urn:bvmf.052.01.xsd}Id\n",
      "{urn:bvmf.052.01.xsd}OrgId\n",
      "{urn:bvmf.052.01.xsd}Othr\n",
      "{urn:bvmf.052.01.xsd}Id\n",
      "{urn:bvmf.052.01.xsd}Issr\n",
      "{urn:bvmf.052.01.xsd}SchmeNm\n",
      "{urn:bvmf.052.01.xsd}Prtry\n",
      "{urn:bvmf.052.01.xsd}To\n",
      "{urn:bvmf.052.01.xsd}OrgId\n",
      "{urn:bvmf.052.01.xsd}Id\n",
      "{urn:bvmf.052.01.xsd}OrgId\n",
      "{urn:bvmf.052.01.xsd}Othr\n",
      "{urn:bvmf.052.01.xsd}Id\n",
      "{urn:bvmf.052.01.xsd}Issr\n"
     ]
    }
   ],
   "source": [
    "warnings.filterwarnings(\"ignore\", category=DeprecationWarning) # Ignorar avisos (tela vermelha chata)\n",
    "\n",
    "tree = ET.parse(largest_file)                     # Criando um elemento contendo a arvóre do XML                    \n",
    "root = tree.getroot()                             # Raiz do elemento criado\n",
    "\n",
    "my_drive = [elem.tag for elem in root.iter()]     # Caso você queira verificar todos os elementos da árvore\n",
    "for i in my_drive[0:20]:\n",
    "    print(i)"
   ]
  },
  {
   "cell_type": "code",
   "execution_count": 11,
   "metadata": {},
   "outputs": [
    {
     "name": "stdout",
     "output_type": "stream",
     "text": [
      "DataFrame criado com sucesso\n"
     ]
    }
   ],
   "source": [
    "extracted_information ={'TICKER':[]}\n",
    "for child in root:\n",
    "    for layer2 in child.getchildren():\n",
    "        for layer3 in layer2.getchildren():\n",
    "            for layer4 in layer3.getchildren():\n",
    "                for layer5 in layer4.getchildren():\n",
    "                    for layer6 in layer5.getchildren():\n",
    "                        for layer7 in layer6.getchildren():\n",
    "                            for layer8 in layer7.getchildren():\n",
    "                                ticker = [j.text for j in layer8.iter(\"{urn:bvmf.100.02.xsd}TckrSymb\")]\n",
    "                                for j in ticker:\n",
    "                                    if len(j) == 6:\n",
    "                                        if j[-1] != 'T':\n",
    "                                            extracted_information['TICKER'].append(j)\n",
    "                                            \n",
    "                                            \n",
    "df = pd.DataFrame(extracted_information)\n",
    "print('DataFrame criado com sucesso')"
   ]
  },
  {
   "cell_type": "code",
   "execution_count": 12,
   "metadata": {},
   "outputs": [
    {
     "data": {
      "text/html": [
       "<div>\n",
       "<style scoped>\n",
       "    .dataframe tbody tr th:only-of-type {\n",
       "        vertical-align: middle;\n",
       "    }\n",
       "\n",
       "    .dataframe tbody tr th {\n",
       "        vertical-align: top;\n",
       "    }\n",
       "\n",
       "    .dataframe thead th {\n",
       "        text-align: right;\n",
       "    }\n",
       "</style>\n",
       "<table border=\"1\" class=\"dataframe\">\n",
       "  <thead>\n",
       "    <tr style=\"text-align: right;\">\n",
       "      <th></th>\n",
       "      <th>TICKER</th>\n",
       "    </tr>\n",
       "  </thead>\n",
       "  <tbody>\n",
       "    <tr>\n",
       "      <th>0</th>\n",
       "      <td>BMGB4L</td>\n",
       "    </tr>\n",
       "    <tr>\n",
       "      <th>1</th>\n",
       "      <td>CEAC11</td>\n",
       "    </tr>\n",
       "    <tr>\n",
       "      <th>2</th>\n",
       "      <td>CEAC4L</td>\n",
       "    </tr>\n",
       "    <tr>\n",
       "      <th>3</th>\n",
       "      <td>BVEN3L</td>\n",
       "    </tr>\n",
       "    <tr>\n",
       "      <th>4</th>\n",
       "      <td>CEAC3L</td>\n",
       "    </tr>\n",
       "  </tbody>\n",
       "</table>\n",
       "</div>"
      ],
      "text/plain": [
       "   TICKER\n",
       "0  BMGB4L\n",
       "1  CEAC11\n",
       "2  CEAC4L\n",
       "3  BVEN3L\n",
       "4  CEAC3L"
      ]
     },
     "execution_count": 12,
     "metadata": {},
     "output_type": "execute_result"
    }
   ],
   "source": [
    "df.head(5)"
   ]
  },
  {
   "cell_type": "markdown",
   "metadata": {},
   "source": [
    "# PARTE 3 | Yahoo Finance\n",
    "\n",
    "Com o DataFrame de Tickers criado, iremos utilizar a biblioteca Yahoo Finance para extrair o Preço de Fechamento das ações no mercado à vista.\n",
    "\n",
    "<pre>\n",
    "Lembrete: Nós poderíamos ter extraído o Preço de Fechamento (e outras informações) diretamente do arquivo BVBG.028, durante a ETAPA 2 de manipulação do XML. Entretanto, ficariamos restritos a data em que o arquivo foi baixado (considerando que as informações disponíveis no BVBG são exclusivas da data do arquivo que baixamos)\n",
    "</pre>\n",
    "\n",
    "Ressalto que o DataFrame que criamos, acaba por ser uma lista TICKERs temporária, pois ele inclui o CODIGO DOS ATIVOS em diferentes mercados. Portanto, deveremos realizar um filtro específico (DataFrame final) para as informações que desejamos obter."
   ]
  },
  {
   "cell_type": "code",
   "execution_count": 13,
   "metadata": {},
   "outputs": [],
   "source": [
    "# Finanças\n",
    "import pandas_datareader as web\n",
    "import yfinance as yf"
   ]
  },
  {
   "cell_type": "code",
   "execution_count": 14,
   "metadata": {},
   "outputs": [
    {
     "data": {
      "text/html": [
       "<div>\n",
       "<style scoped>\n",
       "    .dataframe tbody tr th:only-of-type {\n",
       "        vertical-align: middle;\n",
       "    }\n",
       "\n",
       "    .dataframe tbody tr th {\n",
       "        vertical-align: top;\n",
       "    }\n",
       "\n",
       "    .dataframe thead th {\n",
       "        text-align: right;\n",
       "    }\n",
       "</style>\n",
       "<table border=\"1\" class=\"dataframe\">\n",
       "  <thead>\n",
       "    <tr style=\"text-align: right;\">\n",
       "      <th></th>\n",
       "      <th>TICKER</th>\n",
       "      <th>CONSULTA</th>\n",
       "    </tr>\n",
       "  </thead>\n",
       "  <tbody>\n",
       "    <tr>\n",
       "      <th>0</th>\n",
       "      <td>BMGB4L</td>\n",
       "      <td>BMGB4L.SA</td>\n",
       "    </tr>\n",
       "    <tr>\n",
       "      <th>1</th>\n",
       "      <td>CEAC11</td>\n",
       "      <td>CEAC11.SA</td>\n",
       "    </tr>\n",
       "    <tr>\n",
       "      <th>2</th>\n",
       "      <td>CEAC4L</td>\n",
       "      <td>CEAC4L.SA</td>\n",
       "    </tr>\n",
       "    <tr>\n",
       "      <th>3</th>\n",
       "      <td>BVEN3L</td>\n",
       "      <td>BVEN3L.SA</td>\n",
       "    </tr>\n",
       "    <tr>\n",
       "      <th>4</th>\n",
       "      <td>CEAC3L</td>\n",
       "      <td>CEAC3L.SA</td>\n",
       "    </tr>\n",
       "    <tr>\n",
       "      <th>5</th>\n",
       "      <td>BVEN9L</td>\n",
       "      <td>BVEN9L.SA</td>\n",
       "    </tr>\n",
       "    <tr>\n",
       "      <th>6</th>\n",
       "      <td>ATWN11</td>\n",
       "      <td>ATWN11.SA</td>\n",
       "    </tr>\n",
       "    <tr>\n",
       "      <th>7</th>\n",
       "      <td>BVEN11</td>\n",
       "      <td>BVEN11.SA</td>\n",
       "    </tr>\n",
       "    <tr>\n",
       "      <th>8</th>\n",
       "      <td>FGPM11</td>\n",
       "      <td>FGPM11.SA</td>\n",
       "    </tr>\n",
       "    <tr>\n",
       "      <th>9</th>\n",
       "      <td>INNT13</td>\n",
       "      <td>INNT13.SA</td>\n",
       "    </tr>\n",
       "  </tbody>\n",
       "</table>\n",
       "</div>"
      ],
      "text/plain": [
       "   TICKER   CONSULTA\n",
       "0  BMGB4L  BMGB4L.SA\n",
       "1  CEAC11  CEAC11.SA\n",
       "2  CEAC4L  CEAC4L.SA\n",
       "3  BVEN3L  BVEN3L.SA\n",
       "4  CEAC3L  CEAC3L.SA\n",
       "5  BVEN9L  BVEN9L.SA\n",
       "6  ATWN11  ATWN11.SA\n",
       "7  BVEN11  BVEN11.SA\n",
       "8  FGPM11  FGPM11.SA\n",
       "9  INNT13  INNT13.SA"
      ]
     },
     "execution_count": 14,
     "metadata": {},
     "output_type": "execute_result"
    }
   ],
   "source": [
    "df['CONSULTA'] = df['TICKER'] + '.SA'\n",
    "df.to_excel('lista_tickerB3_temp.xls')\n",
    "df.head(10)"
   ]
  },
  {
   "cell_type": "code",
   "execution_count": 15,
   "metadata": {},
   "outputs": [
    {
     "data": {
      "text/html": [
       "<div>\n",
       "<style scoped>\n",
       "    .dataframe tbody tr th:only-of-type {\n",
       "        vertical-align: middle;\n",
       "    }\n",
       "\n",
       "    .dataframe tbody tr th {\n",
       "        vertical-align: top;\n",
       "    }\n",
       "\n",
       "    .dataframe thead th {\n",
       "        text-align: right;\n",
       "    }\n",
       "</style>\n",
       "<table border=\"1\" class=\"dataframe\">\n",
       "  <thead>\n",
       "    <tr style=\"text-align: right;\">\n",
       "      <th></th>\n",
       "      <th>High</th>\n",
       "      <th>Low</th>\n",
       "      <th>Open</th>\n",
       "      <th>Close</th>\n",
       "      <th>Volume</th>\n",
       "      <th>Adj Close</th>\n",
       "    </tr>\n",
       "    <tr>\n",
       "      <th>Date</th>\n",
       "      <th></th>\n",
       "      <th></th>\n",
       "      <th></th>\n",
       "      <th></th>\n",
       "      <th></th>\n",
       "      <th></th>\n",
       "    </tr>\n",
       "  </thead>\n",
       "  <tbody>\n",
       "    <tr>\n",
       "      <th>2022-02-08</th>\n",
       "      <td>93.910004</td>\n",
       "      <td>92.519997</td>\n",
       "      <td>93.400002</td>\n",
       "      <td>93.910004</td>\n",
       "      <td>5003</td>\n",
       "      <td>93.910004</td>\n",
       "    </tr>\n",
       "  </tbody>\n",
       "</table>\n",
       "</div>"
      ],
      "text/plain": [
       "                 High        Low       Open      Close  Volume  Adj Close\n",
       "Date                                                                     \n",
       "2022-02-08  93.910004  92.519997  93.400002  93.910004    5003  93.910004"
      ]
     },
     "execution_count": 15,
     "metadata": {},
     "output_type": "execute_result"
    }
   ],
   "source": [
    "# Exemplo de consulta utilizando o método get_data_yahoo\n",
    "y_example = web.get_data_yahoo('PORD11.SA', start = \"2022-02-08\", end = \"2022-02-08\")\n",
    "y_example"
   ]
  },
  {
   "cell_type": "code",
   "execution_count": 18,
   "metadata": {},
   "outputs": [
    {
     "name": "stdout",
     "output_type": "stream",
     "text": [
      "['BMGB4L.SA', 'CEAC11.SA', 'CEAC4L.SA', 'BVEN3L.SA', 'CEAC3L.SA', 'BVEN9L.SA', 'ATWN11.SA', 'BVEN11.SA', 'FGPM11.SA', 'INNT13.SA', 'PNVL4L.SA', 'PNVL3L.SA', 'SMFT3F.SA', 'RDOR3L.SA', 'LAME3L.SA', 'LAME4L.SA', 'SUZB3L.SA', 'DCOF31.SA', 'OC1F31.SA', 'DI1F31.SA', 'DDIF31.SA', 'SALI11.SA', 'HBRE3L.SA', 'BPAC3L.SA', 'BPAC9L.SA', 'ESPA3L.SA', 'INTB3L.SA', 'BPAC5L.SA', 'PLAS3F.SA', 'CCMU22.SA']\n"
     ]
    }
   ],
   "source": [
    "lista_yahoo = [i for i in df.CONSULTA]\n",
    "print(lista_yahoo[0:30])"
   ]
  },
  {
   "cell_type": "code",
   "execution_count": 20,
   "metadata": {},
   "outputs": [
    {
     "name": "stdout",
     "output_type": "stream",
     "text": [
      "Favor tentar extrair um total de: 4021 ativos\n",
      "Extração 0 = Sucesso\n",
      "Extração 1 = Sucesso\n",
      "Extração 2 = Sucesso\n",
      "Extração 3 = Sucesso\n",
      "Extração 4 = Sucesso\n"
     ]
    }
   ],
   "source": [
    "lista_yahoo = [i for i in df.CONSULTA]\n",
    "\n",
    "final_data = {'TICKER_YAHOO':[],'PREÇO_FECHAMENTO':[]}\n",
    "\n",
    "print(f'Favor tentar extrair um total de: {len(lista_yahoo)} ativos')\n",
    "count = 0\n",
    "for i in lista_yahoo[0:80]:    \n",
    "    try:\n",
    "        price = web.get_data_yahoo(i, start = \"2022-02-08\", end = \"2022-02-08\")\n",
    "        tg_price = price['Close'].values[0]                         # Linha que estava errada\n",
    "        final_data['TICKER_YAHOO'].append(i)\n",
    "        final_data['PREÇO_FECHAMENTO'].append(tg_price)\n",
    "        print(f'Extração {count} = Sucesso')\n",
    "        count += 1\n",
    "    except:\n",
    "        pass"
   ]
  },
  {
   "cell_type": "code",
   "execution_count": 22,
   "metadata": {},
   "outputs": [
    {
     "data": {
      "text/html": [
       "<div>\n",
       "<style scoped>\n",
       "    .dataframe tbody tr th:only-of-type {\n",
       "        vertical-align: middle;\n",
       "    }\n",
       "\n",
       "    .dataframe tbody tr th {\n",
       "        vertical-align: top;\n",
       "    }\n",
       "\n",
       "    .dataframe thead th {\n",
       "        text-align: right;\n",
       "    }\n",
       "</style>\n",
       "<table border=\"1\" class=\"dataframe\">\n",
       "  <thead>\n",
       "    <tr style=\"text-align: right;\">\n",
       "      <th></th>\n",
       "      <th>TICKER_YAHOO</th>\n",
       "      <th>PREÇO_FECHAMENTO</th>\n",
       "    </tr>\n",
       "  </thead>\n",
       "  <tbody>\n",
       "    <tr>\n",
       "      <th>0</th>\n",
       "      <td>BERK34.SA</td>\n",
       "      <td>84.279999</td>\n",
       "    </tr>\n",
       "    <tr>\n",
       "      <th>1</th>\n",
       "      <td>DISB34.SA</td>\n",
       "      <td>49.639999</td>\n",
       "    </tr>\n",
       "    <tr>\n",
       "      <th>2</th>\n",
       "      <td>AIRB34.SA</td>\n",
       "      <td>42.680000</td>\n",
       "    </tr>\n",
       "    <tr>\n",
       "      <th>3</th>\n",
       "      <td>PAGS34.SA</td>\n",
       "      <td>18.260000</td>\n",
       "    </tr>\n",
       "    <tr>\n",
       "      <th>4</th>\n",
       "      <td>BOVV11.SA</td>\n",
       "      <td>113.120003</td>\n",
       "    </tr>\n",
       "  </tbody>\n",
       "</table>\n",
       "</div>"
      ],
      "text/plain": [
       "  TICKER_YAHOO  PREÇO_FECHAMENTO\n",
       "0    BERK34.SA         84.279999\n",
       "1    DISB34.SA         49.639999\n",
       "2    AIRB34.SA         42.680000\n",
       "3    PAGS34.SA         18.260000\n",
       "4    BOVV11.SA        113.120003"
      ]
     },
     "execution_count": 22,
     "metadata": {},
     "output_type": "execute_result"
    }
   ],
   "source": [
    "df_final = pd.DataFrame(final_data)\n",
    "df_final.to_excel('arquivo_final.xls', index=False)\n",
    "df_final"
   ]
  },
  {
   "cell_type": "code",
   "execution_count": null,
   "metadata": {},
   "outputs": [],
   "source": []
  },
  {
   "cell_type": "code",
   "execution_count": null,
   "metadata": {},
   "outputs": [],
   "source": []
  },
  {
   "cell_type": "code",
   "execution_count": null,
   "metadata": {},
   "outputs": [],
   "source": []
  },
  {
   "cell_type": "code",
   "execution_count": null,
   "metadata": {},
   "outputs": [],
   "source": []
  },
  {
   "cell_type": "code",
   "execution_count": null,
   "metadata": {},
   "outputs": [],
   "source": []
  },
  {
   "cell_type": "code",
   "execution_count": null,
   "metadata": {},
   "outputs": [],
   "source": []
  },
  {
   "cell_type": "code",
   "execution_count": null,
   "metadata": {},
   "outputs": [],
   "source": []
  },
  {
   "cell_type": "code",
   "execution_count": null,
   "metadata": {},
   "outputs": [],
   "source": []
  },
  {
   "cell_type": "code",
   "execution_count": null,
   "metadata": {},
   "outputs": [],
   "source": []
  },
  {
   "cell_type": "code",
   "execution_count": null,
   "metadata": {},
   "outputs": [],
   "source": []
  },
  {
   "cell_type": "code",
   "execution_count": null,
   "metadata": {},
   "outputs": [],
   "source": []
  }
 ],
 "metadata": {
  "kernelspec": {
   "display_name": "Python 3",
   "language": "python",
   "name": "python3"
  },
  "language_info": {
   "codemirror_mode": {
    "name": "ipython",
    "version": 3
   },
   "file_extension": ".py",
   "mimetype": "text/x-python",
   "name": "python",
   "nbconvert_exporter": "python",
   "pygments_lexer": "ipython3",
   "version": "3.7.4"
  }
 },
 "nbformat": 4,
 "nbformat_minor": 2
}
